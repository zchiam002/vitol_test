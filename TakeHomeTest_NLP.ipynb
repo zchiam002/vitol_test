{
 "cells": [
  {
   "cell_type": "markdown",
   "id": "b809b250eaa471b2",
   "metadata": {},
   "source": [
    "# _NLP_ take home test\n",
    "\n",
    "### Points to note:\n",
    "* You must not use an LLM to generate all or parts of the code / comments\n",
    "* Any code you copy / reuse must be attributed to the source\n",
    "* Your code and any associated files should be able to be executed in a _clean_ python environment, i.e. you should provide appropriate files and instructions to add any additional packages required.\n",
    "* You should limit any additional installation requirements to the minimum possible (outside of python packages) - this is not intended to be an infrastructure test.  If you would want to extend via infrastructure solutions, please use the 'Future work' section detailed below\n",
    "* If you have python version requirements, please specify in a markdown block at the start of your answer\n",
    "* If you choose to use an LLM please ensure it will run _locally_, with no paywall / api requirements, entirely within your script.  No efforts will be made to re-construct infrastructure dependencies.\n",
    "\n",
    "### Problem:\n",
    "\n",
    "You are working on a top secret news analysis project, and as part of this, the users need to be able to perform an open ended search within the associated user interface.  \n",
    "\n",
    "For the initial release you have a set of news articles, split by category, and your job is to enrich this data / create a new dataset; plus an associated search method.\n",
    "\n",
    "You have been given the key concepts that are relevant in the data and should be available to the UI (you do NOT need to build the user interface) via your search function:\n",
    "* Overall / main topic - the key topic the article relates to\n",
    "* Relevance - a measure of relevance to the set of search terms.  This is a float in the range 0 - 1.0 (1.0 indicating 100% relevance)\n",
    "* Novelty - a measure of how different this article is to the others. This is a float in the range 0 - 1.0 (1.0 indicating a completely unique result)\n",
    "\n",
    "I.e.: Given a search string, your function should return:  `{'topic':'your_topic_here', 'relevance': 0.1, 'novelty': 0.1, 'article': full_article_object}`\n",
    "\n",
    "The project sponsor is keen to add additional features so would also like to add the following.  They have been clear these are stretch goals and will not be critical to the success of the initial release.  You can add extra elements to the result dictionary to support this functionality if you need to.\n",
    "* 'similar articles' - an ability to find similar articles to the current _selection_ of articles \n",
    "* 'key terms' - the main terms and entities contained in the article (this will be used to enable a rich UI feature showing terms with context higlighting, you only need to tag the terms).\n",
    "* 'user specific article ordering' - an ability to re-order the articles returned; the first version should be to put 'relevant' articles at the top of the list.\n",
    "\n",
    "Whilst your solution will be delivered inside this notebook, you can make use of external files as you see fit. \n",
    "\n",
    "You should assume that your _code_ will be directly ported into the 'production' codebase on completion, so consider this in your submission.  _However_ please make sure you add documentation into the notebook to explain what you are doing and why\n",
    "\n",
    "Include any areas for extension / further evaluation / things you wanted to try but didn't get time to in a final markdown section 'Future work' - there is no expectation you add anything here, but please use it to capture anything you think would be useful for future review.\n",
    "\n",
    "We are looking to understand how you approach an open-ended NLP problem, and will not be considering answers using / not-using an LLM to be better/worse"
   ]
  },
  {
   "cell_type": "markdown",
   "id": "57a4c104a55efe0d",
   "metadata": {},
   "source": [
    "_References_\n",
    "\n",
    "*   Dataset: D. Greene and P. Cunningham. \"Practical Solutions to the Problem of Diagonal Dominance in Kernel Document Clustering\", Proc. ICML 2006 - http://mlg.ucd.ie/datasets/bbc.html"
   ]
  },
  {
   "cell_type": "code",
   "execution_count": 1,
   "id": "d0748e139583d742",
   "metadata": {
    "ExecuteTime": {
     "end_time": "2024-07-15T13:29:49.282819Z",
     "start_time": "2024-07-15T13:29:48.848586Z"
    }
   },
   "outputs": [
    {
     "name": "stderr",
     "output_type": "stream",
     "text": [
      "[nltk_data] Downloading package punkt to /home/zchiam002/nltk_data...\n",
      "[nltk_data]   Package punkt is already up-to-date!\n",
      "[nltk_data] Downloading package stopwords to\n",
      "[nltk_data]     /home/zchiam002/nltk_data...\n",
      "[nltk_data]   Package stopwords is already up-to-date!\n",
      "[nltk_data] Downloading package wordnet to\n",
      "[nltk_data]     /home/zchiam002/nltk_data...\n",
      "[nltk_data]   Package wordnet is already up-to-date!\n",
      "[nltk_data] Downloading package punkt to /home/zchiam002/nltk_data...\n",
      "[nltk_data]   Package punkt is already up-to-date!\n",
      "[nltk_data] Downloading package stopwords to\n",
      "[nltk_data]     /home/zchiam002/nltk_data...\n",
      "[nltk_data]   Package stopwords is already up-to-date!\n",
      "[nltk_data] Downloading package wordnet to\n",
      "[nltk_data]     /home/zchiam002/nltk_data...\n",
      "[nltk_data]   Package wordnet is already up-to-date!\n"
     ]
    }
   ],
   "source": [
    "# Importing the relevant packages\n",
    "import os\n",
    "root_dir = os.path.abspath(os.path.join(os.getcwd(), '', '')) + '//'\n",
    "import sys \n",
    "sys.path.append(root_dir)\n",
    "import urllib\n",
    "import zipfile\n",
    "from typing import List, Dict\n",
    "\n",
    "from src_code.data_manager.dm_load_data import DMLoadData"
   ]
  },
  {
   "cell_type": "code",
   "execution_count": 2,
   "id": "95af0eb8",
   "metadata": {},
   "outputs": [],
   "source": [
    "# Download the data files referenced above \n",
    "url = \"http://mlg.ucd.ie/files/datasets/bbc-fulltext.zip\"\n",
    "extract_dir = root_dir + \"data\"\n",
    "\n",
    "zip_path, _ = urllib.request.urlretrieve(url)\n",
    "with zipfile.ZipFile(zip_path, \"r\") as f:\n",
    "    f.extractall(extract_dir)"
   ]
  },
  {
   "cell_type": "code",
   "execution_count": 3,
   "id": "77489264",
   "metadata": {},
   "outputs": [],
   "source": [
    "# Initialize the article repository - for this test, I have put it in a class. In production, it should be an interface with a vectorized/embedded database\n",
    "articles = DMLoadData.load_from_directory(root_dir + \"data//bbc//\")"
   ]
  },
  {
   "cell_type": "code",
   "execution_count": null,
   "id": "41101ea5fee3a5bb",
   "metadata": {},
   "outputs": [
    {
     "ename": "SyntaxError",
     "evalue": "'(' was never closed (2256955456.py, line 20)",
     "output_type": "error",
     "traceback": [
      "  \u001b[36mCell\u001b[39m\u001b[36m \u001b[39m\u001b[32mIn[4]\u001b[39m\u001b[32m, line 20\u001b[39m\n\u001b[31m    \u001b[39m\u001b[31mrepository_idx = int(ret_df['article_idx'][row]\u001b[39m\n                        ^\n\u001b[31mSyntaxError\u001b[39m\u001b[31m:\u001b[39m '(' was never closed\n"
     ]
    }
   ],
   "source": [
    "\"\"\"\n",
    "Your should include a working function implementation here, this takes in a search string and finds the most relevant articles;\n",
    "returning a list of the form given in the task introduction \n",
    "{'topic':'your_topic_here', 'relevance': 0.1, 'novelty': 0.1, 'article': full_article_object}\n",
    "e.g. \n",
    ":param search_term: string containing the search\n",
    ":return:            list of result objects as detailed above\n",
    "\"\"\"\n",
    "\n",
    "# The number of relevant articles to return \n",
    "RETURN_TOP_N = 10\n",
    "RETURN_TOP_N_KEY_TERMS = 5\n",
    "\n",
    "def search_data(search_term: str) -> List[Dict]:\n",
    "    ret_df = articles.get_top_n_articles (incoming_query=search_term, top_n=RETURN_TOP_N)\n",
    "\n",
    "    # Reformat the output into a dataframe \n",
    "    ret_list = []\n",
    "    for row in ret_df.index:\n",
    "        repository_idx = int(ret_df['article_idx'][row])\n",
    "        curr_article = articles.get_article(repository_idx)\n",
    "        curr_key_terms = sorted(curr_article.get_key_terms(top_n=RETURN_TOP_N_KEY_TERMS))\n",
    "\n",
    "\n",
    "        ret_list.append({'topic': search_term, \n",
    "                         'relevance': float(ret_df['relevance_score'][row]), \n",
    "                         'novelty': float(ret_df['novelty_score'][row]), \n",
    "                         'article': {'category': ret_df['category'][row],\n",
    "                                     'title': ret_df['title'][row], \n",
    "                                     'content': ret_df['content'][row],\n",
    "                                     'key_terms': curr_key_terms}})\n",
    "\n",
    "    return ret_list"
   ]
  },
  {
   "cell_type": "code",
   "execution_count": 11,
   "id": "40b1f05b",
   "metadata": {},
   "outputs": [
    {
     "data": {
      "text/plain": [
       "[{'topic': 'arsenal football club',\n",
       "  'relevance': 0.1674558214399129,\n",
       "  'novelty': 0.8950634484833246,\n",
       "  'article': {'repository_index': 437,\n",
       "   'category': 'sport',\n",
       "   'title': 'Arsenal through on penalties',\n",
       "   'content': \"Arsenal win 4-2 on penalties\\n\\nThe Spanish goalkeeper saved from Alan Quinn and Jon Harley as Arsenal sealed a quarter-final trip to Bolton with a 4-2 victory on penalties. Lauren, Patrick Vieira, Freddie Ljungberg and Ashley Cole scored for Arsenal, while Andy Gray and Phil Jagielka were on target for the Blades. Michael Tonge and Harley wasted chances for the underdogs, but Paddy Kenny was inspired to keep Arsenal at bay. Arsenal, stripped of attacking talent such as Thierry Henry and Dennis Bergkamp, partnered 17-year-old Italian striker Arturo Lupoli with Ljungberg up front. It was a revamped Arsenal line-up, and they were almost a goal behind within seconds as Tonge wasted a glorious chance. Gray ran free down the right flank, and his cross left Tonge with the simplest of chances, but he blazed over the top from six yards.\\n\\nArsenal were barely seen as an attacking force in the opening 45 minutes, although Ljungberg turned a half-chance wide after good work by Cesc Fabregas. Arsene Wenger introduced Quincy Owusu-Abeyie for the ineffective Lupoli at half-time, and the pacy Dutch youngster had an immediate impact. He ran clear after good work by Mathieu Flamini, but his finish was tame and Kenny saved easily. Owusu-Abeyie then fired in a testing cross, which was met by Fabregas, and it needed a desperate clearance by Kenny's legs to save the Blades. Arsenal were now totally dominant, and were desperately unlucky not to take the lead after 62 minutes when Fabregas crashed a rising drive against the bar from 20 yards. It then took a brilliant tackle by Jagielka to deny Ljungberg as he was poised to strike. Arsenal continued to press, and once again Kenny was called into action with eight minutes left, diving low to clutch another close-range effort from Fabregas. Neil Warnock's side almost snatched victory in the dying seconds when Derek Geary's cross found Harley at the far post, but his diving header was brilliantly turned over by Almunia. Owusu-Abeyie's pace was causing all sorts of problems for the Blades, and as extra-time began, another surging run into the penalty area almost set up a chance for Ljungberg. Pascal Cygan missed Arsenal's best chance after 106 minutes, blazing across the face of goal when he was unmarked at the far post. Arsenal sent on Jeremie Aliadiere with seven minutes of extra-time left, and he almost broke the deadlock with his first touch. Kolo Toure's misplaced free-kick landed at his feet, but Kenny once again blocked from a tight angle. Arsenal laid siege to Sheffield United's goal in the dying minutes, but they somehow held on to force penalties. Almunia was then Arsenal's hero as another brave Blades cup campaign came to a losing end.\\n\\nKenny, Geary, Morgan, Bromby, Harley, Liddell, Montgomery, Jagielka, Thirlwell, Tonge (Quinn 97), Gray.\\n\\nSubs Not Used: Francis, Kabba, Shaw, Haystead.\\n\\nMorgan.\\n\\nAlmunia, Lauren, Cygan, Senderos, Cole, Fabregas (Toure 90), Vieira, Flamini (Aliadiere 113), Clichy, Lupoli (Owusu-Abeyie 45), Ljungberg.\\n\\nSubs Not Used: Eboue, Taylor.\\n\\nClichy, Lauren, Senderos.\\n\\n27,595\\n\\nP Dowd (Staffordshire).\"}},\n",
       " {'topic': 'arsenal football club',\n",
       "  'relevance': 0.15056078258138322,\n",
       "  'novelty': 0.8939117590411405,\n",
       "  'article': {'repository_index': 506,\n",
       "   'category': 'sport',\n",
       "   'title': 'Chelsea hold Arsenal',\n",
       "   'content': \"A gripping game between Arsenal and Chelsea ended with the honours finishing even at Highbury.\\n\\nThierry Henry produced a sublime strike to put Arsenal ahead but John Terry levelled with a powerful header. Henry's quickly-taken free-kick put Arsenal back in front but Eidur Gudjohnsen equalised with a header from William Gallas' knockback. Henry missed a golden chance when he blazed a shot high late on and Arsenal also had a penalty appeal rejected. Henry's opener had given Arsenal the perfect start and set up an enthralling affair. The French striker headed a long Cesc Faregas ball back to Jose Antonio Reyes from the edge of the Chelsea area and immediately saw it headed back into his path from the Spaniard. And, with his back to goal, Henry finished with aplomb when he took one touch, turned and struck an angled strike past the despairing dive of keeper Petr Cech. Henry epitomised a determination about the Arsenal side but Chelsea appeared unruffled and equalised after 16 minutes.\\n\\nGunners keeper Manuel Almunia, who got the nod ahead of Jens Lehmann, did well to save a well-struck Frank Lampard shot. But he could not keep out Terry's powered header from the resultant corner as Arsenal's weakness at set-pieces was again exposed. Almost immediately, Henry went close and Chelsea gathered the loose ball before going straight up the other end where Gudjohnsen fluffed an effort. Gudjohnsen did not make the same error minutes later when he struck a sweet shot only for Almunia to be equal to the task and save. The homes side regained the lead in controversial fashion when Robert Pires won a dubious free-kick. And, given the option to take the 25-yard set-piece quickly, Henry curled in a shot with Cech still organising his wall.\\n\\nThis time Arsenal did not allow Chelsea to level so soon as they went into the break ahead. Chelsea brought striker Didier Drogba on to partner Gudjohnsen up front after the interval and the move reaped immediate reward. Lampard swung in a cross which Gallas knocked back across goal and a deft header from Gudjohnsen levelled matters again. Chelsea's main threat was coming from crosses and Lampard missed a great opportunity as he headed wide when left unmarked at the far post. The second half failed to live up to the thrilling pace of the opening period but there were flashes of brilliance. One of them came from the enigmatic Robben when he jinked his way through two Arsenal defenders only to see his poked shot saved by Almunia.\\n\\nArsenal ended the match the stronger and worked a excellent chance for Henry who put a left-foot shot high from eight yards. Subtitute Robin van Persie could also have nicked a win for the Highbury outfit but frustratingly sidefooted just wide. Matthieu Flamini had a late penal appeal waved away before the final whistle which maintained Chelsea five-point Premiership lead over Arsenal.\\n\\nAlmunia, Lauren, Toure, Campbell, Cole, Pires, Flamini, Fabregas, Reyes (Clichy 82), Bergkamp (Van Persie 82), Henry. Subs Not Used: Senderos, Hoyte, Lehmann.\\n\\nCole.\\n\\nHenry 2, 29.\\n\\nCech, Paulo Ferreira, Ricardo Carvalho (Drogba 45), Terry, Gallas, Duff, Tiago (Bridge 45), Makelele, Lampard, Robben, Gudjohnsen (Parker 77). Subs Not Used: Kezman, Cudicini.\\n\\nRobben, Drogba, Lampard.\\n\\nTerry 17, Gudjohnsen 46.\\n\\n38,153\\n\\nG Poll (Hertfordshire).\"}},\n",
       " {'topic': 'arsenal football club',\n",
       "  'relevance': 0.14762871772096578,\n",
       "  'novelty': 0.889671259253731,\n",
       "  'article': {'repository_index': 1541,\n",
       "   'category': 'business',\n",
       "   'title': \"Arsenal 'may seek full share listing'\",\n",
       "   'content': 'Arsenal vice-chairman David Dein has said the club may consider seeking a full listing for its shares on the London Stock Exchange.\\n\\nSpeaking at the Soccerex football business forum in Dubai, he said a full listing was \"one of the options\" for funding after the club moves to its new stadium. The club - which is currently listed on the smaller Ofex share exchange - is due to move into its new 60,000-seater Emirates Stadium at Ashburton Grove for the start of the 2006/07 season. Mr Dein also warned the current level of TV coverage of the Premiership may be reaching saturation level, with signs that match attendances have been dropping off in the first few months of this season.\\n\\nWhen Arsenal moves to its new stadium it will see its proportion of turnover from media earnings drop from 52% this season to 34% in two years\\' time. The club is hoping to increase matchday earnings from 29% to 40% of turnover, and has not ruled out other money-earning means, including a full share listing. \"When the new stadium opens we will go through a thorough financial review,\" Mr Dein said.\\n\\n\"Listing would be one option, but we are flexible and no decisions have been made on that issue yet. \"We want to be in the best financial health - maybe clubs can do it (listing), Manchester United have been a success.\"\\n\\nMr Dein said that, although television money and coverage had driven the English game forward in the past 10 years, he feared there might now be too many games being shown. Since the formation of the Premier League in season 1992/93, Premiership clubs have seen their income from television soar. \"Television has been the driving force over the past 10 years... but we must constantly improve if we want to remain as the world\\'s leading league competition. \"We must monitor the quality of the product and ensure attendances do not decline, and we must balance that with the quantity of exposure on TV too. \"I think we have practically reached saturation point... sometimes I think less is more.\"\\n\\nThe club is funding its move to Ashburton Grove through a number of sources, including debt from banks, from money it already has and will receive in coming years from sponsors, and from the sale of surplus property, including its Highbury Stadium. It is also looking to create new revenue streams from overseas markets, including Asia. \"We have two executives travelling round Japan and China at the moment building relationships with organisations and clubs, and we know our supporters clubs are growing there too, as they are around the world. \"We have got a very good product, so it is very important we go and look at these markets, and make sure we are on the case.\"'}},\n",
       " {'topic': 'arsenal football club',\n",
       "  'relevance': 0.1390004078935392,\n",
       "  'novelty': 0.8923426244973112,\n",
       "  'article': {'repository_index': 255,\n",
       "   'category': 'sport',\n",
       "   'title': 'Edu blasts Arsenal',\n",
       "   'content': 'Arsenal\\'s Brazilian midfielder Edu has hit out at the club for stalling over offering him a new contract.\\n\\nEdu\\'s deal expires next summer and he has been linked with Spanish trio Real Madrid, Barcelona and Valencia. He told BBC Sport: \"I\\'m not sure if I want to stay or not because the club have let the situation go on this far. \"If they had really wanted to sign they should have come up with an offer six months before indicating they wanted to sign me and that\\'s made me think.\" Edu\\'s brother and representative Amadeo Fensao has previously said that Arsenal\\'s current offer to the midfielder was well short of what he was seeking. And Edu, 26, added: \"My brother is due to come to London on Thursday.\\n\\n\"There is a meeting planned for 6 or 7 January to sort it out with Arsenal. \"Now I have a choice to stay or go. I want to sort it out as soon as possible, that\\'s in the best interests of both the club and myself. \"I\\'m going to make my decision after the meeting later this week.\" Edu is now able to begin negotiations with other clubs because Fifa regulations allow players to start talks six months before their contracts expire. The midfielder, who broke in to the Brazilian national side in 2004, admitted he had been flattered to have been linked with the three Spanish giants. Edu said: \"I\\'ve just heard stories from the news that the Madrid president Florentino Perez, the Valencia people, as well as Barcelona are interested.\\n\\n\"That\\'s nice, but I\\'ve never talked to them, so I can\\'t say they want me sign 100%.\" Last month Wenger said he we was hopeful Edu would sign a new deal and played down suggestions that the lure of a club like Real Madrid would be too strong for Edu. Edu added that he had been encouraged by Wenger\\'s support for him. \"I still have a good relationship with Arsene Wenger - he\\'s always said he wants me to sign.\"'}},\n",
       " {'topic': 'arsenal football club',\n",
       "  'relevance': 0.13414525084515816,\n",
       "  'novelty': 0.9118819242043081,\n",
       "  'article': {'repository_index': 1221,\n",
       "   'category': 'tech',\n",
       "   'title': 'Football Manager scores big time',\n",
       "   'content': \"For the past decade or so the virtual football fans among us will have become used to the annual helping of Championship Manager (CM). Indeed, it seems like there has been a CM game for as many years as there have been PCs.\\n\\nHowever, last year was the final time that developers Sports Interactive (SI) and publishers Eidos would work together. They decided to go their separate ways, and each kept a piece of the franchise. SI kept the game's code and database, and Eidos retained rights to the CM brand, and the look and feel of the game. So at the beginning of this year, fans faced a new situation. Eidos announced the next CM game, with a new team to develop it from scratch, whilst SI developed the existing code further to be released, with new publishers Sega, under the name Football Manager. So what does this mean? Well, Football Manager is the spiritual successor to the CM series, and it has been released earlier than expected. At this point CM5 looks like it will ship early next year. But given that Football Manager 2005 is by and large the game that everybody knows and loves, how does this new version shape up?\\n\\nA game like FM2005 could blind you with statistics. It has an obscene number of playable leagues, an obscene number of manageable teams and a really obscene number of players and staff from around the world in the database, with stats faithfully researched and compiled by a loyal army of fans. But that does not do justice to the game really. What we are talking about is the most realistic and satisfying football management game to ever grace the Earth.\\n\\nYou begin by picking the nations and leagues you want to manage teams from, for instance England and Scotland. That will give you a choice not just of the four main Scottish leagues, but the English Premiership all the way down to the Conference North and South. Of course you might be looking for European glory, or to get hold of Abramovich's millions, in which case you can take control at Chelsea, or even Barcelona, Real Madrid, AC Milan ... the list goes on a very long way. Once in a team you will be told by the board what they expect of you. Sometimes it is promotion, or a place in Europe, sometimes it is consolidation or a brave relegation battle. It might even be a case of Champions or else. Obviously the expectations are linked to the team you choose, so choose wisely. Then it is time to look at your squad, work out your tactics, seeing how much cash, if any, you have got to splash, having a look at the transfer market, sorting out the training schedule and making sure your backroom staff are up to it. Then bring on the matches, which are once more available in the ever-improving top down 2D view. With the exception of the improved user interface on the surface, not much else seems to have changed.\\n\\nHowever, there have been a lot of changes under the bonnet as well - things like the manager mind-games, which let you talk to the media about the opposition bosses. The match engine is also much improved, and it is more of a joy than ever to watch. In fact just about every area of the game has been tweaked, and it leads to an ever more immersive experience.\\n\\nWith a game that is so complex and so open-ended, there are of course a few glitches, but nowhere near the sorts of problems that have blighted previous releases. With so many calculations to perform the game can take some time to process in between matches, though there have been improvements in this area. And a sport like football, which is so high profile and unpredictable itself, can never be modelled quite to everybody's satisfaction. But this time around a great deal of hard work has been put in to ensure that any oddities that do crop up are cosmetic only, and do not affect gameplay. And if there are problems further down the line, Sports Interactive have indicated their usual willingness to support and develop the game as far as possible. In all there are many more tweaks and improvements. If you were a fan of the previous CM games, then FM2005 might make you forget there was anything else before it. If you are new to the genre but like the idea of trying to take Margate into the Premiership, Spurs into Europe, or even putting Rangers back on the top of the tree, FM2005 could be the best purchase you ever made. Just be warned that the family might not see you much at Christmas.\\n\\nFootball Manager 2005 out now for the PC and the Mac\"}},\n",
       " {'topic': 'arsenal football club',\n",
       "  'relevance': 0.13231520955070075,\n",
       "  'novelty': 0.892114822290789,\n",
       "  'article': {'repository_index': 94,\n",
       "   'category': 'sport',\n",
       "   'title': 'Mourinho takes swipe at Arsenal',\n",
       "   'content': 'Chelsea boss Jose Mourinho has attempted to pile the pressure on title rivals Arsenal ahead of the Gunners facing Newcastle on Wednesday.\\n\\nArsenal will play the Magpies a day after Chelsea beat Portsmouth during a busy festive programme. And Mourinho said: \"They always seem to have two or three days\\' rest in which to recover. Perhaps it\\'s something to do with the television schedule. \"All my players are tired, especially John Terry.\"\\n\\nChelsea boss Jose Mourinho admitted his side were \"lucky\" to win at Fratton Park but is still unhappy with the amount of games in such a short space of time during this time of year. He added: \"We have had to play two matches in three days which is foreign to many of my players and, although I understand the traditions of football here at this time of year, it is not good for your health to do it.\\n\\n\"You can sit back and smoke cigars, one after another, and it is a good life, but it is not actually good for you. \"Playing so many games is certainly not healthy, especially for teams who still have European commitment.\"'}},\n",
       " {'topic': 'arsenal football club',\n",
       "  'relevance': 0.13150818283552418,\n",
       "  'novelty': 0.8952806404034211,\n",
       "  'article': {'repository_index': 391,\n",
       "   'category': 'sport',\n",
       "   'title': 'Israeli club look to Africa',\n",
       "   'content': \"Four African players, including Zimbabwe goalkeeper Energy Murambadoro, are all ready to play for Israeli club Hapoel Bnei Sakhnin in the Uefa Cup.\\n\\nBnei Sakhnin are the first Arab side ever to play in European competition and will play English Premiership side Newcastle United in the first round. Warriors' goalkeeper Murambadoro, who made a name for himself at the African Nations Cup finals in Tunisia, helped Bnei Sakhnin overcome Albania's Partizani Tirana 6-1 in the previous round. Murambadoro moved to Israel recently after a brief stint with South African club Hellenic. The club won the Israeli Cup final last season and are based in Sakhnin, which is near Haifa. The club have a strong ethic and are high profile promoters of peace and co-operation within Israel. The three other Africans at the club are former Cameroon defender Ernest Etchi, DR Congo's Alain Masudi and Nigerian midfielder Edith Agoye, who had a stint with Tunisian side Esperance.\"}},\n",
       " {'topic': 'arsenal football club',\n",
       "  'relevance': 0.12841781050878853,\n",
       "  'novelty': 0.8936228950400555,\n",
       "  'article': {'repository_index': 398,\n",
       "   'category': 'sport',\n",
       "   'title': 'Campbell rescues Arsenal',\n",
       "   'content': \"Sol Campbell proved to be an unlikely match-winner to earn Arsenal a hard-fought win at Portsmouth.\\n\\nThe England defender lashed home a 25-yard shot for his first goal in 16 months to take Arsenal back into second spot, five points behind Chelsea. But before Campbell scored the best two chances of the game fell to Pompey striker Ricardo Fuller. In the first half he blasted wide when clear, and his control let him down in the second half when well placed. Portsmouth got plenty of bodies behind the ball to deny Arsenal space in the early stages. But their marking was slack at a corner and Patrick Vieira should have done better when the ball fell to him 16 yards out. A mistake by Arjan de Zeeuw let Thierry Henry in behind the Pompey defence on 17 minutes but as he bore down on goal Linvoy Primus got in a saving tackle. With just Fuller as an out-and-out striker, Portsmouth's shape made life difficult for Arsenal. But a delightful touch by Robin van Persie gave Henry a sight of goal, although the angle was too tight for his shot to trouble Jamie Ashdown.\\n\\nAshdown caused hearts to flutter on 28 minutes when he missed his punch at a corner and Kolo Toure headed just wide and, as Arsenal began to press, Van Persie blasted over a good opportunity after Henry had set him up. Henry took a quick return pass from Vieira but Ashdown was out quickly to block, and there were some anxious seconds for Pompey as the ball ran loose before Matthew Taylor cleared. After playing second fiddle, Portsmouth should have taken the lead on 34 minutes. Referee Howard Webb played a good advantage to allow Steve Stone to send Gary O'Neil away but, having shrugged off Toure, the Pompey midfielder planted his shot wide from 10 yards. As half-time approached, Henry teased a shot through a ruck of players and inches wide. At the other end, Fuller broke clear but failed to hit the target as Toure closed him down.\\n\\nFuller was given the best chance of the match so far on 48 minutes when Patrik Berger's break and slipped pass played him clear. But a poor first touch lost him the opportunity and even when he checked back and went down under Vieira's challenge, referee Webb was not interested. Fuller paid the price when he gave way on 55 minutes to Aiyegbeni Yakubu, who returned after six weeks out with a knee injury. But it needed alert reflexes and safe handling from Ashdown to cling on to Van Persie's shot as Henry sniffed for scraps.\\n\\nPortsmouth were growing in confidence and keeper Manuel Almunia had to stand his ground to beat away a powerful shot from Berger. Arsenal were struggling to find their rhythm but took the lead through the unlikely source of Campbell. The England defender needed little invitation as Pompey backed off to stride forward and lash a ferocious shot past Ashdown. Arsenal might have stretched their lead two minutes later when Mathieu Flamini escaped his marker to flash a header wide from Henry's free-kick. Almunia went full length to grab Berger's long-range shot, while Ashdown palmed away substitute Dennis Bergkamp's shot.\\n\\nAshdown, Griffin, De Zeeuw, Primus, Taylor, Stone, O'Neil, Faye (Berkovic 83), Berger, LuaLua, Fuller (Yakubu 55).\\n\\nSubs not used: Hislop, Quashie, Cisse.\\n\\nAlmunia, Lauren, Toure, Campbell, Cole, Pires, Flamini, Vieira, Clichy, Van Persie (Bergkamp 68), Henry.\\n\\nSubs not used: Lehmann, Fabregas, Senderos, Hoyte.\\n\\nCole.\\n\\nCampbell 75.\\n\\n20,170.\\n\\nH Webb (S Yorkshire).\"}},\n",
       " {'topic': 'arsenal football club',\n",
       "  'relevance': 0.11218395357230365,\n",
       "  'novelty': 0.8945888737607675,\n",
       "  'article': {'repository_index': 494,\n",
       "   'category': 'sport',\n",
       "   'title': 'English clubs make Euro history',\n",
       "   'content': \"All four of England's Champions League representatives have reached the knockout stages for the first time.\\n\\nArsenal and Chelsea are seeded as group winners, while runners-up Manchester United and Liverpool are not. Rules stipulate that teams from the same country or group will be kept apart in the draw on 17 December. The favourites are Chelsea and Barcelona, and Real Madrid, the two Milan sides, Juventus and Bayern Munich are among the 16 still in the hat.\\n\\nSteven Gerrard's last-gasp wonder-strike secured qualification for\\n\\nagainst Olympiakos on Wednesday evening.\\n\\nAC Milan, Bayer Leverkusen, Internazionale, Juventus, Lyon.\\n\\nwho had already qualified, fielded a second-string side and went down 3-0 to Fenerbahce.\\n\\nAC Milan, Bayer Leverkusen, Internazionale, Juventus, Monaco.\\n\\nOn Tuesday,\\n\\nfinished top of their group with a 5-1 win over the Rosenborg after drawing four of their first five matches.\\n\\nBarcelona, Bayern Munich, Porto, Real Madrid, Werder Bremen\\n\\n, who had already qualified lost 2-1 to Porto as Jose Mourinho made an unhappy return to his former club.\\n\\nBarcelona, Bayern Munich, PSV Eindhoven, Real Madrid, Werder Bremen.\"}},\n",
       " {'topic': 'arsenal football club',\n",
       "  'relevance': 0.10843549686783689,\n",
       "  'novelty': 0.8931802789832503,\n",
       "  'article': {'repository_index': 259,\n",
       "   'category': 'sport',\n",
       "   'title': 'Wenger dejected as Arsenal slump',\n",
       "   'content': 'Arsenal manager Arsene Wenger claimed their display in the 3-1 defeat against Bayern Munich was \"our worst peformance in the Champions League\".\\n\\nKolo Toure\\'s late goal gives the Gunners hope for the second leg, but Wenger said: \"The only positive is that we are still in the tie. \"The players are really down in the dressing-room. I feel we really turned in a bad performance. \"At 3-0 we faced a real struggle, but 3-1 at least gives us a chance.\"\\n\\nGoalscorer Toure was also at fault for two goals, and Wenger said: \"We need to help Toure rebuild his confidence as he is low at the moment.\" Wenger also tried to stay upbeat himself, adding: \"But there is enough time for crying. I could cry - maybe it would be easier - but life goes on. \"In this job, you have good and bad nights. This was a bad night - but I still have confidence in the quality of my players, as well as their spirit and desire.\" But Wenger\\'s Bayern counterpart Felix Magath was in no mood to celebrate either. He said: \"I am far from happy despite the win. My players failed to try and score a fourth to kill the tie and then conceded the late goal.\\n\\n\"Arsenal are fully capable of scoring several goals against us on their own turf.\" Arsenal keeper Jens Lehmann, whose personal rivalry with Bayern goalkeeper Oliver Kahn was not helped by the result, said: \"Do I blame myself for the third goal? As a goalkeeper, I always blame myself. \"I just know the goals were very easy against us. In my time here, we have never conceded three easy goals like that - but sometimes it happens. \"It would have been impossible to go through at 3-0 - but with the goal we have chances. Everything is now possible.\"'}}]"
      ]
     },
     "execution_count": 11,
     "metadata": {},
     "output_type": "execute_result"
    }
   ],
   "source": [
    "search_data('arsenal football club')"
   ]
  },
  {
   "cell_type": "code",
   "execution_count": null,
   "id": "6bbfe424",
   "metadata": {},
   "outputs": [],
   "source": []
  }
 ],
 "metadata": {
  "kernelspec": {
   "display_name": "vitol_test (3.13.6)",
   "language": "python",
   "name": "python3"
  },
  "language_info": {
   "codemirror_mode": {
    "name": "ipython",
    "version": 3
   },
   "file_extension": ".py",
   "mimetype": "text/x-python",
   "name": "python",
   "nbconvert_exporter": "python",
   "pygments_lexer": "ipython3",
   "version": "3.13.6"
  }
 },
 "nbformat": 4,
 "nbformat_minor": 5
}
