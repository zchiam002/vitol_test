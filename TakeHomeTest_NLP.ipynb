{
 "cells": [
  {
   "metadata": {},
   "cell_type": "markdown",
   "source": [
    "# _NLP_ take home test\n",
    "\n",
    "### Points to note:\n",
    "* You must not use an LLM to generate all or parts of the code / comments\n",
    "* Any code you copy / reuse must be attributed to the source\n",
    "* Your code and any associated files should be able to be executed in a _clean_ python environment, i.e. you should provide appropriate files and instructions to add any additional packages required.\n",
    "* You should limit any additional installation requirements to the minimum possible (outside of python packages) - this is not intended to be an infrastructure test.  If you would want to extend via infrastructure solutions, please use the 'Future work' section detailed below\n",
    "* If you have python version requirements, please specify in a markdown block at the start of your answer\n",
    "* If you choose to use an LLM please ensure it will run _locally_, with no paywall / api requirements, entirely within your script.  No efforts will be made to re-construct infrastructure dependencies.\n",
    "\n",
    "### Problem:\n",
    "\n",
    "You are working on a top secret news analysis project, and as part of this, the users need to be able to perform an open ended search within the associated user interface.  \n",
    "\n",
    "For the initial release you have a set of news articles, split by category, and your job is to enrich this data / create a new dataset; plus an associated search method.\n",
    "\n",
    "You have been given the key concepts that are relevant in the data and should be available to the UI (you do NOT need to build the user interface) via your search function:\n",
    "* Overall / main topic - the key topic the article relates to\n",
    "* Relevance - a measure of relevance to the set of search terms.  This is a float in the range 0 - 1.0 (1.0 indicating 100% relevance)\n",
    "* Novelty - a measure of how different this article is to the others. This is a float in the range 0 - 1.0 (1.0 indicating a completely unique result)\n",
    "\n",
    "I.e.: Given a search string, your function should return:  `{'topic':'your_topic_here', 'relevance': 0.1, 'novelty': 0.1, 'article': full_article_object}`\n",
    "\n",
    "The project sponsor is keen to add additional features so would also like to add the following.  They have been clear these are stretch goals and will not be critical to the success of the initial release.  You can add extra elements to the result dictionary to support this functionality if you need to.\n",
    "* 'similar articles' - an ability to find similar articles to the current _selection_ of articles \n",
    "* 'key terms' - the main terms and entities contained in the article (this will be used to enable a rich UI feature showing terms with context higlighting, you only need to tag the terms).\n",
    "* 'user specific article ordering' - an ability to re-order the articles returned; the first version should be to put 'relevant' articles at the top of the list.\n",
    "\n",
    "Whilst your solution will be delivered inside this notebook, you can make use of external files as you see fit. \n",
    "\n",
    "You should assume that your _code_ will be directly ported into the 'production' codebase on completion, so consider this in your submission.  _However_ please make sure you add documentation into the notebook to explain what you are doing and why\n",
    "\n",
    "Include any areas for extension / further evaluation / things you wanted to try but didn't get time to in a final markdown section 'Future work' - there is no expectation you add anything here, but please use it to capture anything you think would be useful for future review.\n",
    "\n",
    "We are looking to understand how you approach an open-ended NLP problem, and will not be considering answers using / not-using an LLM to be better/worse"
   ],
   "id": "b809b250eaa471b2"
  },
  {
   "metadata": {},
   "cell_type": "markdown",
   "source": [
    "_References_\n",
    "\n",
    "*   Dataset: D. Greene and P. Cunningham. \"Practical Solutions to the Problem of Diagonal Dominance in Kernel Document Clustering\", Proc. ICML 2006 - http://mlg.ucd.ie/datasets/bbc.html"
   ],
   "id": "57a4c104a55efe0d"
  },
  {
   "metadata": {
    "ExecuteTime": {
     "end_time": "2024-07-15T13:29:49.282819Z",
     "start_time": "2024-07-15T13:29:48.848586Z"
    }
   },
   "cell_type": "code",
   "source": [
    "# Download the data files referenced above\n",
    "\n",
    "import urllib.request\n",
    "import zipfile\n",
    "\n",
    "url = \"http://mlg.ucd.ie/files/datasets/bbc-fulltext.zip\"\n",
    "extract_dir = \"data\"\n",
    "\n",
    "zip_path, _ = urllib.request.urlretrieve(url)\n",
    "with zipfile.ZipFile(zip_path, \"r\") as f:\n",
    "    f.extractall(extract_dir)"
   ],
   "id": "d0748e139583d742",
   "outputs": [],
   "execution_count": 4
  },
  {
   "metadata": {},
   "cell_type": "code",
   "outputs": [],
   "execution_count": null,
   "source": [
    "def search_data(search_term: str) -> list[dict]:\n",
    "    \"\"\"\n",
    "    Your should include a working function implementation here, this takes in a search string and finds the most relevant articles;\n",
    "    returning a list of the form given in the task introduction \n",
    "    {'topic':'your_topic_here', 'relevance': 0.1, 'novelty': 0.1, 'article': full_article_object}\n",
    "    e.g. \n",
    "    :param search_term: string containing the search\n",
    "    :return:            list of result objects as detailed above\n",
    "    \"\"\"\n",
    "    ..."
   ],
   "id": "41101ea5fee3a5bb"
  }
 ],
 "metadata": {
  "kernelspec": {
   "display_name": "Python 3",
   "language": "python",
   "name": "python3"
  },
  "language_info": {
   "codemirror_mode": {
    "name": "ipython",
    "version": 2
   },
   "file_extension": ".py",
   "mimetype": "text/x-python",
   "name": "python",
   "nbconvert_exporter": "python",
   "pygments_lexer": "ipython2",
   "version": "2.7.6"
  }
 },
 "nbformat": 4,
 "nbformat_minor": 5
}
